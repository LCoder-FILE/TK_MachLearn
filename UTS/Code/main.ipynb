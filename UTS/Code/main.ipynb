{
  "cells": [
    {
      "cell_type": "markdown",
      "source": [
        "# UTS Machine Learning Kelompok 4\n",
        "\n",
        "## Anggota Kelompok :\n",
        "- Ema Nelvi Saleky ()\n",
        "- Philemon (232102317)\n",
        "- Timotius ()\n",
        "\n",
        "## Deskripsi Project :  \n",
        "\n",
        "Proyek ini bertujuan untuk mengembangkan dan mengimplementasikan model machine\n",
        "learning yang dapat memprediksi gangguan tidur berdasarkan faktor kesehatan dan gaya hidup.\n",
        "Model ini diharapkan mampu memberikan prediksi yang lebih akurat dibandingkan dengan\n",
        "metode tradisional, serta menghasilkan wawasan baru tentang faktor-faktor utama yang\n",
        "mempengaruhi gangguan tidur."
      ],
      "metadata": {
        "id": "_cxWrk3xdly0"
      }
    },
    {
      "cell_type": "markdown",
      "source": [
        "# Step 1. Import Dataset & Library Python\n",
        "\n",
        "## 1. Import Library\n",
        "Library yang digunakan termasuk :\n",
        "- Numpy (Pemrosesan data)\n",
        "- Pandas (Container data)\n",
        "- Matplotlib & Seaborn (Visualisasi data)\n",
        "- Sklearn (Algoritma machine learning & metriks penilaian)\n",
        "\n"
      ],
      "metadata": {
        "id": "sDu95D3xfIS0"
      }
    },
    {
      "cell_type": "code",
      "execution_count": 1,
      "metadata": {
        "id": "ZVuEnm8OdPxa"
      },
      "outputs": [],
      "source": [
        "import pandas as pd\n",
        "import numpy as np\n",
        "import matplotlib.pyplot as plt\n",
        "import seaborn as sns\n",
        "from sklearn.preprocessing import StandardScaler\n",
        "from sklearn.model_selection import train_test_split\n",
        "from sklearn.neighbors import KNeighborsClassifier\n",
        "from sklearn.linear_model import LogisticRegression\n",
        "from sklearn.ensemble import RandomForestClassifier\n",
        "from sklearn.metrics import classification_report, confusion_matrix\n",
        "from sklearn.metrics import accuracy_score"
      ]
    },
    {
      "cell_type": "markdown",
      "source": [
        "## 2. Import dataset\n",
        "\n",
        "Data Sleep, Health, and Lifestyle memiliki 400 baris dan 13 kolom yang menjelaskan tentang pola tidur dan kesehatan seseorang. Data ini memiliki fitur-fitur sebagai berikut :  \n",
        "\n",
        "● Person ID: Nomor identifikasi untuk setiap orang.\n",
        "\n",
        "● Gender: Jenis kelamin setiap orang.\n",
        "\n",
        "● Age: Umur setiap orang dalam satuan tahun.\n",
        "\n",
        "● Occupation: Pekerjaan setiap orang.\n",
        "\n",
        "● Sleep Duration (hours): Waktu tidur setiap orang dalam satuan jam.\n",
        "\n",
        "● Quality of Sleep (scale: 1-10): Sebuah rating yang sifatnya subjektif untuk seberapa\n",
        "nyenyak tidur setiap orang.\n",
        "\n",
        "● Physical Activity Level (minutes/day): Jumlah waktu berapa lama setiap orang\n",
        "melakukan aktivitas fisik dalam satuan menit.\n",
        "\n",
        "● Stress Level (scale: 1-10): Sebuah rating yang sifatnya subjektif untuk seberapa tinggi level stres setiap orang.\n",
        "\n",
        "● BMI Category: Kategori BMI untuk setiap orang (e.g., Underweight, Normal, Overweight).\n",
        "\n",
        "● Blood Pressure (systolic/diastolic): Pengukuran tekanan darah untuk setiap orang,\n",
        "diindikasikan sebagai tekanan sistolik diatas tekanan diastolik.\n",
        "\n",
        "● Heart Rate (bpm): frekuensi detak jantung saat beristirahat, diukur dalam satuan detak\n",
        "per menit.\n",
        "\n",
        "● Daily Steps: Jumlah langkah yang diambil setiap orang per hari.\n",
        "\n",
        "● Sleep Disorder: Jenis gangguan tidur yang dialami setiap orang (None, Insomnia, Sleep\n",
        "Apnea)."
      ],
      "metadata": {
        "id": "S2SILR2WoIh1"
      }
    },
    {
      "cell_type": "code",
      "source": [
        "dataset = \"dataset.csv\"\n",
        "\n",
        "df = pd.read_csv(dataset)\n"
      ],
      "metadata": {
        "id": "TJ0g-Qn6lZ9N"
      },
      "execution_count": null,
      "outputs": []
    }
  ],
  "metadata": {
    "kernelspec": {
      "display_name": "Python 3",
      "language": "python",
      "name": "python3"
    },
    "language_info": {
      "codemirror_mode": {
        "name": "ipython",
        "version": 3
      },
      "file_extension": ".py",
      "mimetype": "text/x-python",
      "name": "python",
      "nbconvert_exporter": "python",
      "pygments_lexer": "ipython3",
      "version": "3.11.4"
    },
    "colab": {
      "provenance": []
    }
  },
  "nbformat": 4,
  "nbformat_minor": 0
}