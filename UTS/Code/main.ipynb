{
  "cells": [
    {
      "cell_type": "markdown",
      "source": [
        "# UTS Machine Learning Kelompok 4\n",
        "\n",
        "## Anggota Kelompok :\n",
        "- Ema Nelvi Saleky ()\n",
        "- Philemon (232102317)\n",
        "- Timotius ()\n",
        "\n",
        "## Deskripsi Project :  \n",
        "\n",
        "Proyek ini bertujuan untuk mengembangkan dan mengimplementasikan model machine\n",
        "learning yang dapat memprediksi gangguan tidur berdasarkan faktor kesehatan dan gaya hidup.\n",
        "Model ini diharapkan mampu memberikan prediksi yang lebih akurat dibandingkan dengan\n",
        "metode tradisional, serta menghasilkan wawasan baru tentang faktor-faktor utama yang\n",
        "mempengaruhi gangguan tidur."
      ],
      "metadata": {
        "id": "_cxWrk3xdly0"
      }
    },
    {
      "cell_type": "markdown",
      "source": [
        "# Step 1. Import Dataset & Library Python\n",
        "\n",
        "## 1. Import Library\n",
        "Library yang digunakan termasuk :\n",
        "- Numpy (Pemrosesan data)\n",
        "- Pandas (Container data)\n",
        "- Matplotlib & Seaborn (Visualisasi data)\n",
        "- Sklearn (Algoritma machine learning & metriks penilaian)\n",
        "\n"
      ],
      "metadata": {
        "id": "sDu95D3xfIS0"
      }
    },
    {
      "cell_type": "code",
      "execution_count": null,
      "metadata": {
        "id": "ZVuEnm8OdPxa",
        "outputId": "e408a64e-8c91-42b3-8341-36bf4d40792c"
      },
      "outputs": [
        {
          "name": "stdout",
          "output_type": "stream",
          "text": [
            "test\n"
          ]
        }
      ],
      "source": [
        "import pandas as pd\n",
        "import numpy as np\n",
        "import matplotlib.pyplot as plt\n",
        "import seaborn as sns\n",
        "from sklearn.preprocessing import StandardScaler\n",
        "from sklearn.model_selection import train_test_split\n",
        "from sklearn.neighbors import KNeighborsClassifier\n",
        "from sklearn.linear_model import LogisticRegression\n",
        "from sklearn.ensemble import RandomForestClassifier\n",
        "from sklearn.metrics import classification_report, confusion_matrix\n",
        "from sklearn.metrics import accuracy_score"
      ]
    }
  ],
  "metadata": {
    "kernelspec": {
      "display_name": "Python 3",
      "language": "python",
      "name": "python3"
    },
    "language_info": {
      "codemirror_mode": {
        "name": "ipython",
        "version": 3
      },
      "file_extension": ".py",
      "mimetype": "text/x-python",
      "name": "python",
      "nbconvert_exporter": "python",
      "pygments_lexer": "ipython3",
      "version": "3.11.4"
    },
    "colab": {
      "provenance": []
    }
  },
  "nbformat": 4,
  "nbformat_minor": 0
}